{
 "cells": [
  {
   "cell_type": "code",
   "execution_count": 1,
   "id": "63bda4e9",
   "metadata": {},
   "outputs": [
    {
     "name": "stderr",
     "output_type": "stream",
     "text": [
      "21/12/03 11:23:40 WARN NativeCodeLoader: Unable to load native-hadoop library for your platform... using builtin-java classes where applicable\n",
      "Using Spark's default log4j profile: org/apache/spark/log4j-defaults.properties\n",
      "Setting default log level to \"WARN\".\n",
      "To adjust logging level use sc.setLogLevel(newLevel). For SparkR, use setLogLevel(newLevel).\n"
     ]
    }
   ],
   "source": [
    "import os\n",
    "import re\n",
    "import pandas\n",
    "import pytz\n",
    "import datetime\n",
    "from os import listdir\n",
    "from os.path import isfile, join, exists\n",
    "\n",
    "import pyspark\n",
    "from pyspark import *\n",
    "from pyspark.sql import *\n",
    "from pyspark.sql.types import *\n",
    "from pyspark.sql.functions import *\n",
    "\n",
    "sc = SparkContext(\"local\")\n",
    "sqlContext = SparkSession.builder.getOrCreate()"
   ]
  },
  {
   "cell_type": "code",
   "execution_count": 2,
   "id": "6fad4789",
   "metadata": {},
   "outputs": [],
   "source": [
    "from pandasql import sqldf\n",
    "pysqldf = lambda q: sqldf(q, globals())"
   ]
  },
  {
   "cell_type": "markdown",
   "id": "ae98846a",
   "metadata": {},
   "source": [
    "## load data"
   ]
  },
  {
   "cell_type": "code",
   "execution_count": 3,
   "id": "2ee1545f",
   "metadata": {},
   "outputs": [
    {
     "name": "stderr",
     "output_type": "stream",
     "text": [
      "                                                                                \r"
     ]
    }
   ],
   "source": [
    "daily_dataset = sqlContext\\\n",
    "    .read.option('header', True)\\\n",
    "    .csv('/data/smart_city/smart_meters_in_london/daily_dataset/daily_dataset')"
   ]
  },
  {
   "cell_type": "code",
   "execution_count": 4,
   "id": "4c535404",
   "metadata": {},
   "outputs": [
    {
     "name": "stdout",
     "output_type": "stream",
     "text": [
      "root\n",
      " |-- LCLid: string (nullable = true)\n",
      " |-- day: string (nullable = true)\n",
      " |-- energy_median: string (nullable = true)\n",
      " |-- energy_mean: string (nullable = true)\n",
      " |-- energy_max: string (nullable = true)\n",
      " |-- energy_count: string (nullable = true)\n",
      " |-- energy_std: string (nullable = true)\n",
      " |-- energy_sum: string (nullable = true)\n",
      " |-- energy_min: string (nullable = true)\n",
      "\n"
     ]
    }
   ],
   "source": [
    "daily_dataset.registerTempTable('daily_dataset')\n",
    "daily_dataset.printSchema()"
   ]
  },
  {
   "cell_type": "code",
   "execution_count": 5,
   "id": "0d2fcf6a",
   "metadata": {},
   "outputs": [],
   "source": [
    "weather_daily_darksky_spark = sqlContext\\\n",
    "    .read.option('header', True)\\\n",
    "    .csv('/data/smart_city/smart_meters_in_london/weather_daily_darksky.csv')"
   ]
  },
  {
   "cell_type": "code",
   "execution_count": 6,
   "id": "ded68bae",
   "metadata": {},
   "outputs": [
    {
     "name": "stdout",
     "output_type": "stream",
     "text": [
      "root\n",
      " |-- temperatureMax: string (nullable = true)\n",
      " |-- temperatureMaxTime: string (nullable = true)\n",
      " |-- windBearing: string (nullable = true)\n",
      " |-- icon: string (nullable = true)\n",
      " |-- dewPoint: string (nullable = true)\n",
      " |-- temperatureMinTime: string (nullable = true)\n",
      " |-- cloudCover: string (nullable = true)\n",
      " |-- windSpeed: string (nullable = true)\n",
      " |-- pressure: string (nullable = true)\n",
      " |-- apparentTemperatureMinTime: string (nullable = true)\n",
      " |-- apparentTemperatureHigh: string (nullable = true)\n",
      " |-- precipType: string (nullable = true)\n",
      " |-- visibility: string (nullable = true)\n",
      " |-- humidity: string (nullable = true)\n",
      " |-- apparentTemperatureHighTime: string (nullable = true)\n",
      " |-- apparentTemperatureLow: string (nullable = true)\n",
      " |-- apparentTemperatureMax: string (nullable = true)\n",
      " |-- uvIndex: string (nullable = true)\n",
      " |-- time: string (nullable = true)\n",
      " |-- sunsetTime: string (nullable = true)\n",
      " |-- temperatureLow: string (nullable = true)\n",
      " |-- temperatureMin: string (nullable = true)\n",
      " |-- temperatureHigh: string (nullable = true)\n",
      " |-- sunriseTime: string (nullable = true)\n",
      " |-- temperatureHighTime: string (nullable = true)\n",
      " |-- uvIndexTime: string (nullable = true)\n",
      " |-- summary: string (nullable = true)\n",
      " |-- temperatureLowTime: string (nullable = true)\n",
      " |-- apparentTemperatureMin: string (nullable = true)\n",
      " |-- apparentTemperatureMaxTime: string (nullable = true)\n",
      " |-- apparentTemperatureLowTime: string (nullable = true)\n",
      " |-- moonPhase: string (nullable = true)\n",
      "\n"
     ]
    }
   ],
   "source": [
    "weather_daily_darksky_spark.printSchema()"
   ]
  },
  {
   "cell_type": "markdown",
   "id": "30ef6438",
   "metadata": {},
   "source": [
    "## reduce data to only a few households"
   ]
  },
  {
   "cell_type": "code",
   "execution_count": 7,
   "id": "f758b0a2",
   "metadata": {},
   "outputs": [],
   "source": [
    "sqlContext.sql(u\"\"\"\n",
    "    select LCLid, count(*), mean(energy_median) as energy_median\n",
    "    from daily_dataset\n",
    "    group by LCLid\n",
    "    \"\"\").registerTempTable('median')"
   ]
  },
  {
   "cell_type": "code",
   "execution_count": 8,
   "id": "08f9b7eb",
   "metadata": {},
   "outputs": [
    {
     "name": "stderr",
     "output_type": "stream",
     "text": [
      "                                                                                \r"
     ]
    },
    {
     "name": "stdout",
     "output_type": "stream",
     "text": [
      "+---------+--------+------------------+\n",
      "|    LCLid|count(1)|     energy_median|\n",
      "+---------+--------+------------------+\n",
      "|MAC002137|     621|0.5709090174718201|\n",
      "|MAC005302|     745|0.5307436241610739|\n",
      "|MAC002163|     619|0.5385347333602584|\n",
      "|MAC003668|     502| 0.570689243725099|\n",
      "|MAC000116|     808|0.5312518569306929|\n",
      "|MAC003602|     506|0.5335039521739138|\n",
      "|MAC000443|     709|0.5821107195345564|\n",
      "|MAC004102|     652|0.5586150305214728|\n",
      "|MAC004458|     806|0.5050521093052102|\n",
      "|MAC002869|     659|0.5168884670713201|\n",
      "+---------+--------+------------------+\n",
      "only showing top 10 rows\n",
      "\n"
     ]
    }
   ],
   "source": [
    "sqlContext.sql(u\"\"\"\n",
    "    select *\n",
    "    from median\n",
    "    where energy_median > 0.5 and energy_median < 0.6\n",
    "    \"\"\").show(10)"
   ]
  },
  {
   "cell_type": "code",
   "execution_count": 9,
   "id": "4705d403",
   "metadata": {},
   "outputs": [
    {
     "name": "stderr",
     "output_type": "stream",
     "text": [
      "                                                                                \r"
     ]
    }
   ],
   "source": [
    "df = sqlContext.sql(u\"\"\"\n",
    "    select *\n",
    "    from daily_dataset\n",
    "    where LCLid in ('MAC004179', 'MAC002761', 'MAC002137')\n",
    "    \"\"\").toPandas()"
   ]
  },
  {
   "cell_type": "code",
   "execution_count": 10,
   "id": "b2d4451b",
   "metadata": {},
   "outputs": [],
   "source": [
    "energy_columns = [\n",
    "    'energy_median', \n",
    "    'energy_mean', \n",
    "    'energy_max', \n",
    "    'energy_count', \n",
    "    'energy_std', \n",
    "    'energy_sum', \n",
    "    'energy_min',\n",
    "    ]\n",
    "\n",
    "for c in energy_columns:\n",
    "    df[c] = df[c].astype('float')\n",
    "\n",
    "df['day'] = pandas.to_datetime(df['day'])"
   ]
  },
  {
   "cell_type": "code",
   "execution_count": 11,
   "id": "c43f91e6",
   "metadata": {},
   "outputs": [
    {
     "data": {
      "text/html": [
       "<div>\n",
       "<style scoped>\n",
       "    .dataframe tbody tr th:only-of-type {\n",
       "        vertical-align: middle;\n",
       "    }\n",
       "\n",
       "    .dataframe tbody tr th {\n",
       "        vertical-align: top;\n",
       "    }\n",
       "\n",
       "    .dataframe thead th {\n",
       "        text-align: right;\n",
       "    }\n",
       "</style>\n",
       "<table border=\"1\" class=\"dataframe\">\n",
       "  <thead>\n",
       "    <tr style=\"text-align: right;\">\n",
       "      <th></th>\n",
       "      <th>day</th>\n",
       "    </tr>\n",
       "  </thead>\n",
       "  <tbody>\n",
       "    <tr>\n",
       "      <th>0</th>\n",
       "      <td>2012-06-18</td>\n",
       "    </tr>\n",
       "    <tr>\n",
       "      <th>1</th>\n",
       "      <td>2012-06-19</td>\n",
       "    </tr>\n",
       "    <tr>\n",
       "      <th>2</th>\n",
       "      <td>2012-06-20</td>\n",
       "    </tr>\n",
       "  </tbody>\n",
       "</table>\n",
       "</div>"
      ],
      "text/plain": [
       "         day\n",
       "0 2012-06-18\n",
       "1 2012-06-19\n",
       "2 2012-06-20"
      ]
     },
     "execution_count": 11,
     "metadata": {},
     "output_type": "execute_result"
    }
   ],
   "source": [
    "df[['day']].head(3)"
   ]
  },
  {
   "cell_type": "code",
   "execution_count": 45,
   "id": "12306f73",
   "metadata": {},
   "outputs": [],
   "source": [
    "df['document_id'] = df['LCLid']+df['day'].astype('str')\n",
    "df['day'] = df['day'].astype('str').apply(lambda x:x[0:10])"
   ]
  },
  {
   "cell_type": "code",
   "execution_count": 46,
   "id": "ad7c0634",
   "metadata": {},
   "outputs": [
    {
     "data": {
      "text/plain": [
       "<AxesSubplot:xlabel='day'>"
      ]
     },
     "execution_count": 46,
     "metadata": {},
     "output_type": "execute_result"
    },
    {
     "data": {
      "image/png": "[encoded data removed]",
      "text/plain": [
       "<Figure size 432x288 with 1 Axes>"
      ]
     },
     "metadata": {
      "needs_background": "light"
     },
     "output_type": "display_data"
    }
   ],
   "source": [
    "import matplotlib\n",
    "\n",
    "df1 = pysqldf(u\"\"\"\n",
    "    select day, energy_median\n",
    "    from df\n",
    "    where LCLid = 'MAC002761'\n",
    "    \"\"\")\n",
    "\n",
    "df1 = df1.set_index('day')\n",
    "\n",
    "df1[['energy_median']].plot()"
   ]
  },
  {
   "cell_type": "markdown",
   "id": "ae162bb0",
   "metadata": {},
   "source": [
    "## prepare the weather data"
   ]
  },
  {
   "cell_type": "code",
   "execution_count": 13,
   "id": "8a4d39a9",
   "metadata": {},
   "outputs": [
    {
     "name": "stderr",
     "output_type": "stream",
     "text": [
      "21/12/03 11:24:18 WARN package: Truncated the string representation of a plan since it was too large. This behavior can be adjusted by setting 'spark.sql.debug.maxToStringFields'.\n"
     ]
    }
   ],
   "source": [
    "weather_daily_darksky = weather_daily_darksky_spark.toPandas()"
   ]
  },
  {
   "cell_type": "code",
   "execution_count": 14,
   "id": "1cf6e63d",
   "metadata": {},
   "outputs": [],
   "source": [
    "df1 = pysqldf(u\"\"\"\n",
    "    select \n",
    "    row_number() over (partition by time order by summary) as rank_id,\n",
    "    *\n",
    "    from weather_daily_darksky\n",
    "    \"\"\")"
   ]
  },
  {
   "cell_type": "code",
   "execution_count": 15,
   "id": "8371de49",
   "metadata": {},
   "outputs": [],
   "source": [
    "weather_daily_darksky = pysqldf(u\"\"\"\n",
    "    select * from df1 where rank_id = 1\n",
    "    \"\"\").drop(columns = ['rank_id'])"
   ]
  },
  {
   "cell_type": "code",
   "execution_count": 16,
   "id": "4ccdb855",
   "metadata": {},
   "outputs": [
    {
     "data": {
      "text/html": [
       "<div>\n",
       "<style scoped>\n",
       "    .dataframe tbody tr th:only-of-type {\n",
       "        vertical-align: middle;\n",
       "    }\n",
       "\n",
       "    .dataframe tbody tr th {\n",
       "        vertical-align: top;\n",
       "    }\n",
       "\n",
       "    .dataframe thead th {\n",
       "        text-align: right;\n",
       "    }\n",
       "</style>\n",
       "<table border=\"1\" class=\"dataframe\">\n",
       "  <thead>\n",
       "    <tr style=\"text-align: right;\">\n",
       "      <th></th>\n",
       "      <th>count(*)</th>\n",
       "      <th>count(distinct time)</th>\n",
       "    </tr>\n",
       "  </thead>\n",
       "  <tbody>\n",
       "    <tr>\n",
       "      <th>0</th>\n",
       "      <td>882</td>\n",
       "      <td>882</td>\n",
       "    </tr>\n",
       "  </tbody>\n",
       "</table>\n",
       "</div>"
      ],
      "text/plain": [
       "   count(*)  count(distinct time)\n",
       "0       882                   882"
      ]
     },
     "execution_count": 16,
     "metadata": {},
     "output_type": "execute_result"
    }
   ],
   "source": [
    "pysqldf(u\"\"\"\n",
    "    select count(*),\n",
    "    count(distinct time)\n",
    "    from weather_daily_darksky\n",
    "    \"\"\")"
   ]
  },
  {
   "cell_type": "code",
   "execution_count": 17,
   "id": "d24d5084",
   "metadata": {},
   "outputs": [],
   "source": [
    "for c in weather_daily_darksky:    \n",
    "    try:\n",
    "        weather_daily_darksky[c] = pandas.to_datetime(weather_daily_darksky[c])\n",
    "    except:\n",
    "        try:\n",
    "            weather_daily_darksky[c] = weather_daily_darksky[c].astype('float')\n",
    "        except:\n",
    "            pass"
   ]
  },
  {
   "cell_type": "code",
   "execution_count": 18,
   "id": "012c65a9",
   "metadata": {},
   "outputs": [],
   "source": [
    "weather_daily_darksky['sunsetHour'] = weather_daily_darksky['sunsetTime'].apply(lambda t:t.hour)\n",
    "weather_daily_darksky['sunriseHour'] = weather_daily_darksky['sunriseTime'].apply(lambda t:t.hour)\n",
    "weather_daily_darksky['temperatureHighHour'] = weather_daily_darksky['temperatureHighTime'].apply(lambda t:t.hour)\n",
    "weather_daily_darksky['temperatureLowHour'] = weather_daily_darksky['temperatureLowTime'].apply(lambda t:t.hour)\n",
    "weather_daily_darksky['dayTimeHour'] = weather_daily_darksky['sunsetHour'] - weather_daily_darksky['sunriseHour']"
   ]
  },
  {
   "cell_type": "code",
   "execution_count": 19,
   "id": "365fc238",
   "metadata": {},
   "outputs": [],
   "source": [
    "weather_daily_darksky['day_weather'] = weather_daily_darksky['time'].dt.date\n",
    "weather_daily_darksky['day_weather'] = pandas.to_datetime(weather_daily_darksky['day_weather'])"
   ]
  },
  {
   "cell_type": "code",
   "execution_count": 20,
   "id": "5e071ce7",
   "metadata": {},
   "outputs": [
    {
     "data": {
      "text/plain": [
       "temperatureMax                        float64\n",
       "temperatureMaxTime             datetime64[ns]\n",
       "windBearing                           float64\n",
       "icon                                   object\n",
       "dewPoint                              float64\n",
       "temperatureMinTime             datetime64[ns]\n",
       "cloudCover                            float64\n",
       "windSpeed                             float64\n",
       "pressure                              float64\n",
       "apparentTemperatureMinTime     datetime64[ns]\n",
       "apparentTemperatureHigh               float64\n",
       "precipType                             object\n",
       "visibility                            float64\n",
       "humidity                              float64\n",
       "apparentTemperatureHighTime    datetime64[ns]\n",
       "apparentTemperatureLow                float64\n",
       "apparentTemperatureMax                float64\n",
       "uvIndex                               float64\n",
       "time                           datetime64[ns]\n",
       "sunsetTime                     datetime64[ns]\n",
       "temperatureLow                        float64\n",
       "temperatureMin                        float64\n",
       "temperatureHigh                       float64\n",
       "sunriseTime                    datetime64[ns]\n",
       "temperatureHighTime            datetime64[ns]\n",
       "uvIndexTime                    datetime64[ns]\n",
       "summary                                object\n",
       "temperatureLowTime             datetime64[ns]\n",
       "apparentTemperatureMin                float64\n",
       "apparentTemperatureMaxTime     datetime64[ns]\n",
       "apparentTemperatureLowTime     datetime64[ns]\n",
       "moonPhase                             float64\n",
       "sunsetHour                              int64\n",
       "sunriseHour                             int64\n",
       "temperatureHighHour                     int64\n",
       "temperatureLowHour                      int64\n",
       "dayTimeHour                             int64\n",
       "day_weather                    datetime64[ns]\n",
       "dtype: object"
      ]
     },
     "execution_count": 20,
     "metadata": {},
     "output_type": "execute_result"
    }
   ],
   "source": [
    "weather_daily_darksky.dtypes"
   ]
  },
  {
   "cell_type": "code",
   "execution_count": 51,
   "id": "1270bea0",
   "metadata": {},
   "outputs": [],
   "source": [
    "weather_daily_darksky['day_weather'] = weather_daily_darksky['day_weather'].astype('str').apply(lambda x:x[0:10])"
   ]
  },
  {
   "cell_type": "code",
   "execution_count": 50,
   "id": "ea8a2bd7",
   "metadata": {},
   "outputs": [
    {
     "data": {
      "text/plain": [
       "<AxesSubplot:xlabel='day_weather'>"
      ]
     },
     "execution_count": 50,
     "metadata": {},
     "output_type": "execute_result"
    },
    {
     "data": {
      "image/png": "[encoded data removed]",
      "text/plain": [
       "<Figure size 432x288 with 1 Axes>"
      ]
     },
     "metadata": {
      "needs_background": "light"
     },
     "output_type": "display_data"
    }
   ],
   "source": [
    "import matplotlib\n",
    "\n",
    "df1 = weather_daily_darksky\n",
    "\n",
    "df1 = df1.set_index('day_weather')\n",
    "\n",
    "df1[['sunsetHour', 'sunriseHour', 'dayTimeHour']].plot()"
   ]
  },
  {
   "cell_type": "markdown",
   "id": "0a906e25",
   "metadata": {},
   "source": [
    "### load the prediction"
   ]
  },
  {
   "cell_type": "code",
   "execution_count": 74,
   "id": "d887a218",
   "metadata": {},
   "outputs": [],
   "source": [
    "prediction_df = sqlContext.read.json('/data/prediction')\n",
    "prediction_df = prediction_df.toPandas()\n",
    "prediction_df['document_id'] = prediction_df['LCLid']+prediction_df['day_prediction'].astype('str')"
   ]
  },
  {
   "cell_type": "markdown",
   "id": "1a9882ce",
   "metadata": {},
   "source": [
    "## join the weather to the daily data"
   ]
  },
  {
   "cell_type": "code",
   "execution_count": 75,
   "id": "9849d512",
   "metadata": {},
   "outputs": [],
   "source": [
    "dailay_record = pysqldf(u\"\"\"\n",
    "    select \n",
    "    p.prediction as energy_median_prediction,\n",
    "    p.day_prediction as day,\n",
    "    p.LCLid,\n",
    "    p.document_id,\n",
    "    d.energy_median,\n",
    "    d.energy_mean,\n",
    "    d.energy_max,\n",
    "    d.energy_count,\n",
    "    d.energy_std,\n",
    "    d.energy_sum,\n",
    "    d.energy_min,\n",
    "    w.*\n",
    "    from prediction_df as p\n",
    "    left join df as d on d.document_id = p.document_id\n",
    "    left join weather_daily_darksky as w on w.day_weather = p.day_prediction\n",
    "    \"\"\")"
   ]
  },
  {
   "cell_type": "code",
   "execution_count": 76,
   "id": "36a4899e",
   "metadata": {},
   "outputs": [],
   "source": [
    "dailay_record.to_json('/data/daily.json',\n",
    "    lines = True, \n",
    "    orient = 'records',\n",
    "    )"
   ]
  }
 ],
 "metadata": {
  "kernelspec": {
   "display_name": "Python 3 (ipykernel)",
   "language": "python",
   "name": "python3"
  },
  "language_info": {
   "codemirror_mode": {
    "name": "ipython",
    "version": 3
   },
   "file_extension": ".py",
   "mimetype": "text/x-python",
   "name": "python",
   "nbconvert_exporter": "python",
   "pygments_lexer": "ipython3",
   "version": "3.9.2"
  }
 },
 "nbformat": 4,
 "nbformat_minor": 5
}
